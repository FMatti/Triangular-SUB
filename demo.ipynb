{
 "cells": [
  {
   "cell_type": "markdown",
   "metadata": {},
   "source": [
    "# Demonstration"
   ]
  },
  {
   "cell_type": "code",
   "execution_count": 1,
   "metadata": {},
   "outputs": [],
   "source": [
    "import numpy as np\n",
    "from sub import sub"
   ]
  },
  {
   "cell_type": "markdown",
   "metadata": {},
   "source": [
    "## Lower triangular matrices"
   ]
  },
  {
   "cell_type": "markdown",
   "metadata": {},
   "source": [
    "### Simple example"
   ]
  },
  {
   "cell_type": "code",
   "execution_count": 2,
   "metadata": {},
   "outputs": [],
   "source": [
    "A_lower = np.array([[1, 0, 0],\n",
    "                    [2, 1, 0],\n",
    "                    [3, 2, 1]])\n",
    "b = np.array([1, 2, 3])\n",
    "\n",
    "x = sub(A_lower, b, mode='lower')\n",
    "\n",
    "np.testing.assert_equal(A_lower @ x, b)"
   ]
  },
  {
   "cell_type": "markdown",
   "metadata": {},
   "source": [
    "### Random matrix equation"
   ]
  },
  {
   "cell_type": "code",
   "execution_count": 3,
   "metadata": {},
   "outputs": [],
   "source": [
    "A_lower = np.tril(np.random.randn(10, 10))\n",
    "b = np.random.randn(10)\n",
    "\n",
    "x = sub(A_lower, b, mode='lower')\n",
    "\n",
    "np.testing.assert_almost_equal(A_lower @ x, b)"
   ]
  },
  {
   "cell_type": "markdown",
   "metadata": {},
   "source": [
    "## Upper triangular matrices"
   ]
  },
  {
   "cell_type": "markdown",
   "metadata": {},
   "source": [
    "### Simple example"
   ]
  },
  {
   "cell_type": "code",
   "execution_count": 4,
   "metadata": {},
   "outputs": [],
   "source": [
    "A_upper = np.array([[1, 2, 3],\n",
    "                    [0, 1, 2],\n",
    "                    [0, 0, 1]])\n",
    "b = np.array([1, 2, 3])\n",
    "\n",
    "x = sub(A_upper, b, mode='upper')\n",
    "\n",
    "np.testing.assert_equal(A_upper @ x, b)"
   ]
  },
  {
   "cell_type": "markdown",
   "metadata": {},
   "source": [
    "### Random matrix equation"
   ]
  },
  {
   "cell_type": "code",
   "execution_count": 5,
   "metadata": {},
   "outputs": [],
   "source": [
    "A_upper = np.triu(np.random.randn(10, 10))\n",
    "b = np.random.randn(10)\n",
    "\n",
    "x = sub(A_upper, b, mode='upper')\n",
    "\n",
    "np.testing.assert_almost_equal(A_upper @ x, b)"
   ]
  }
 ],
 "metadata": {
  "kernelspec": {
   "display_name": "Python 3.9.12 ('base')",
   "language": "python",
   "name": "python3"
  },
  "language_info": {
   "codemirror_mode": {
    "name": "ipython",
    "version": 3
   },
   "file_extension": ".py",
   "mimetype": "text/x-python",
   "name": "python",
   "nbconvert_exporter": "python",
   "pygments_lexer": "ipython3",
   "version": "3.9.12"
  },
  "orig_nbformat": 4,
  "vscode": {
   "interpreter": {
    "hash": "1fb7e1d106f96ece0effce6687f5a66548e5469c281250930459a91b7282be97"
   }
  }
 },
 "nbformat": 4,
 "nbformat_minor": 2
}
